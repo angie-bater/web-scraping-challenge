{
 "cells": [
  {
   "cell_type": "code",
   "execution_count": 58,
   "metadata": {},
   "outputs": [],
   "source": [
    "from bs4 import BeautifulSoup as bs"
   ]
  },
  {
   "cell_type": "code",
   "execution_count": 59,
   "metadata": {},
   "outputs": [],
   "source": [
    "from splinter import Browser"
   ]
  },
  {
   "cell_type": "code",
   "execution_count": 60,
   "metadata": {},
   "outputs": [],
   "source": [
    "import pandas as pd\n"
   ]
  },
  {
   "cell_type": "code",
   "execution_count": 61,
   "metadata": {},
   "outputs": [],
   "source": [
    "import requests"
   ]
  },
  {
   "cell_type": "code",
   "execution_count": 73,
   "metadata": {},
   "outputs": [
    {
     "name": "stdout",
     "output_type": "stream",
     "text": [
      "\n",
      "NASA to Broadcast Mars 2020 Perseverance Launch, Prelaunch Activities\n",
      "\n",
      "\n",
      "Starting July 27, news activities will cover everything from mission engineering and science to returning samples from Mars to, of course, the launch itself.\n",
      "\n"
     ]
    }
   ],
   "source": [
    "# URL of page to be scraped\n",
    "nasa_url = 'https://mars.nasa.gov/news/'\n",
    "\n",
    "# Retrieve page with the requests module\n",
    "response = requests.get(nasa_url)\n",
    "\n",
    "# Create BeautifulSoup object; parse with 'html.parser'\n",
    "soup = BeautifulSoup(response.text, 'html.parser')\n",
    "\n",
    "# Extract the title of the HTML document\n",
    "soup.title\n",
    "news_title =soup.find('div', class_='content_title').find('a').getText()\n",
    "print(news_title)\n",
    "\n",
    "\n",
    "news_paragraph =soup.find('div', class_='rollover_description_inner').getText()\n",
    "print(news_paragraph)\n",
    "\n"
   ]
  },
  {
   "cell_type": "code",
   "execution_count": 63,
   "metadata": {},
   "outputs": [],
   "source": [
    "#print(soup.prettify())"
   ]
  },
  {
   "cell_type": "code",
   "execution_count": 64,
   "metadata": {},
   "outputs": [
    {
     "name": "stdout",
     "output_type": "stream",
     "text": [
      "/usr/local/bin/chromedriver\n"
     ]
    }
   ],
   "source": [
    "!which chromedriver\n",
    "executable_path = {'executable_path': '/usr/local/bin/chromedriver'}\n",
    "browser = Browser('chrome', **executable_path, headless=False)"
   ]
  },
  {
   "cell_type": "code",
   "execution_count": 65,
   "metadata": {},
   "outputs": [],
   "source": [
    "url = 'https://www.jpl.nasa.gov/spaceimages/?search=&category=Mars'\n",
    "browser.visit(url)\n",
    "\n",
    "\n",
    "# Find and click the 'search' button\n",
    "button = browser.find_by_id('full_image')\n",
    "button.click()\n",
    "featured_img_url = browser.find_by_css(\".fancybox-image\").first[\"src\"]\n",
    "\n",
    "\n",
    "\n",
    "\n"
   ]
  },
  {
   "cell_type": "code",
   "execution_count": 70,
   "metadata": {},
   "outputs": [
    {
     "name": "stdout",
     "output_type": "stream",
     "text": [
      "Mars Weather@MarsWxReport·13hInSight sol 599 (2020-08-02) low -91.8ºC (-133.2ºF) high -42.6ºC (-44.8ºF)\n",
      "winds from the WNW at 5.1 m/s (11.5 mph) gusting to 15.6 m/s (34.8 mph)\n",
      "pressure at 7.90 hPa1222\n"
     ]
    }
   ],
   "source": [
    "#Visit the Mars Weather twitter account and scrape the latest Mars weather tweet from the page. \n",
    "#Save the tweet text for the weather report as a variable called `mars_weather`.\n",
    "\n",
    "twitter_url= \"https://twitter.com/marswxreport?lang=en\"\n",
    "browser.visit(twit_url)\n",
    "\n",
    "browser.links.find_by_partial_text('Next')\n",
    "\n",
    "twitter = browser.html\n",
    "\n",
    "soup_twitter = bs(twit,'html.parser')\n",
    "\n",
    "weather = soup_twitter.find('article',class_=\"css-1dbjc4n r-1loqt21 r-18u37iz r-1ny4l3l r-o7ynqc r-6416eg\").text\n",
    "mars_weather = weather.strip().replace('Mars Weather@MarsWxReport·9hInSight ','')\n",
    "print(mars_weather)\n",
    "\n",
    "\n",
    "\n",
    "\n"
   ]
  },
  {
   "cell_type": "code",
   "execution_count": 72,
   "metadata": {},
   "outputs": [
    {
     "name": "stdout",
     "output_type": "stream",
     "text": [
      "                      0                              1\n",
      "0  Equatorial Diameter:                       6,792 km\n",
      "1       Polar Diameter:                       6,752 km\n",
      "2                 Mass:  6.39 × 10^23 kg (0.11 Earths)\n",
      "3                Moons:            2 (Phobos & Deimos)\n",
      "4       Orbit Distance:       227,943,824 km (1.38 AU)\n",
      "5         Orbit Period:           687 days (1.9 years)\n",
      "6  Surface Temperature:                   -87 to -5 °C\n",
      "7         First Record:              2nd millennium BC\n",
      "8          Recorded By:           Egyptian astronomers\n"
     ]
    }
   ],
   "source": [
    "### Mars Facts\n",
    "#Visit the Mars Facts webpage (https://space-facts.com/mars/) and use Pandas to scrape the table containing facts about the planet including Diameter, Mass, etc.\n",
    "\n",
    "mars_url = \"https://space-facts.com/mars/\"\n",
    "\n",
    "\n",
    "dataframe=pd.read_html(mars_url)[0]\n",
    "dataframe.head()\n",
    "print(dataframe)\n",
    "\n",
    "df_string =dataframe.to_html()\n",
    "\n"
   ]
  },
  {
   "cell_type": "code",
   "execution_count": null,
   "metadata": {},
   "outputs": [],
   "source": []
  },
  {
   "cell_type": "code",
   "execution_count": 80,
   "metadata": {},
   "outputs": [
    {
     "name": "stdout",
     "output_type": "stream",
     "text": [
      "[{'title': 'Cerberus Hemisphere Enhanced', 'img_url': 'https://astropedia.astrogeology.usgs.gov/download/Mars/Viking/cerberus_enhanced.tif/full.jpg'}, {'title': 'Schiaparelli Hemisphere Enhanced', 'img_url': 'https://astropedia.astrogeology.usgs.gov/download/Mars/Viking/schiaparelli_enhanced.tif/full.jpg'}, {'title': 'Syrtis Major Hemisphere Enhanced', 'img_url': 'https://astropedia.astrogeology.usgs.gov/download/Mars/Viking/syrtis_major_enhanced.tif/full.jpg'}, {'title': 'Valles Marineris Hemisphere Enhanced', 'img_url': 'https://astropedia.astrogeology.usgs.gov/download/Mars/Viking/valles_marineris_enhanced.tif/full.jpg'}]\n"
     ]
    }
   ],
   "source": [
    "\n",
    "### Mars Hemispheres\n",
    "#Save both the image url string for the full resolution hemisphere image, and the Hemisphere title containing the hemisphere name. Use a Python dictionary to store the data using the keys `img_url` and `title`.\n",
    "\n",
    "hemi_url = \"https://astrogeology.usgs.gov/search/results?q=hemisphere+enhanced&k1=target&v1=Mars\"\n",
    "browser.visit(hemi_url)\n",
    "browser.links.find_by_partial_text('Next')\n",
    "\n",
    "hemi = browser.html\n",
    "\n",
    "soup_hemi = bs(hemi,'html.parser')\n",
    "\n",
    "#Append the dictionary with the image url string and the hemisphere title to a list. This list will contain one dictionary for each hemisphere.\n",
    "\n",
    "hemi_dict = []\n",
    "data = soup_hemi.find_all('div',class_=\"description\")\n",
    "\n",
    "for item in data:\n",
    "    highres_url = f\"https://astrogeology.usgs.gov{item.find('a')['href']}\"\n",
    "    highres = browser.visit(highres_url)\n",
    "    highres = browser.html\n",
    "    \n",
    "    soup_highres = bs(highres,'html.parser')\n",
    "    \n",
    "    highres_img = soup_highres.find_all('div',class_='downloads')[0].find('a')['href']\n",
    "    \n",
    "    title = item.find('h3').text\n",
    "    hemi_dict.append({\"title\": title, \"img_url\": highres_img})\n",
    "    \n",
    "print(hemi_dict)"
   ]
  },
  {
   "cell_type": "code",
   "execution_count": null,
   "metadata": {},
   "outputs": [],
   "source": []
  }
 ],
 "metadata": {
  "kernelspec": {
   "display_name": "Python 3",
   "language": "python",
   "name": "python3"
  },
  "language_info": {
   "codemirror_mode": {
    "name": "ipython",
    "version": 3
   },
   "file_extension": ".py",
   "mimetype": "text/x-python",
   "name": "python",
   "nbconvert_exporter": "python",
   "pygments_lexer": "ipython3",
   "version": "3.7.6"
  }
 },
 "nbformat": 4,
 "nbformat_minor": 4
}
